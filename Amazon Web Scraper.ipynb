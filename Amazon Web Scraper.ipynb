{
 "cells": [
  {
   "cell_type": "code",
   "execution_count": 1,
   "id": "4325661b",
   "metadata": {},
   "outputs": [],
   "source": [
    "# import libraries\n",
    "\n",
    "from bs4 import BeautifulSoup\n",
    "import requests\n",
    "import time\n",
    "import datetime\n",
    "import smtplib"
   ]
  },
  {
   "cell_type": "code",
   "execution_count": 48,
   "id": "142583bd",
   "metadata": {},
   "outputs": [
    {
     "name": "stdout",
     "output_type": "stream",
     "text": [
      "\n",
      "             Panvola Give Me All The Data Researcher Scientist Analyst Data Science Computer Geek Ceramic Coffee Mug 11oz White Funny Novelty Drinkware\n",
      "            \n",
      "\n",
      "                           $12.97\n",
      "                          \n"
     ]
    }
   ],
   "source": [
    "# Connect to Website and pull in data\n",
    "\n",
    "URL = 'https://www.amazon.com/Researcher-Scientist-Analyst-Computer-Drinkware/dp/B09ZBHHBQZ/ref=sr_1_11_sspa?crid=35QH1OUP1PIOH&dib=eyJ2IjoiMSJ9.KEhZNoiS_9aZRnvUMTy2C26JZRiMC8bzx4SJEq-8rK0RZ2K3R4y6EAS2RnlK2VSB445RvjPXRWeK8Bv-Ikd7myruO1XLYkU_MWLdVCChEFdy3LJv1fmHyAEKW3hiVMBtUcY1Yy0Kk1CxoLgYKkWwm_uOvO7DXhdZAH4fn7SENzubXj1VrxNNLZb2Frpvo2ZwlbL5zSQf0VFqGMGfffO-uGo3uVWw_hhn9nKsIriLhFDmT7oURnHrI--wAlnMdoP433-jPRwmaP_jlzUWUzz59UUJf1OtVYmnsIomqwPlbpU.mSyzjGKGY-0ctDVdIpFpcohUNXxhQDVNMBBkkhE-7tI&dib_tag=se&keywords=data%2Banalyst%2Btshirt&qid=1711450675&sprefix=data%2Banalyst%2Bt%2Caps%2C294&sr=8-11-spons&sp_csd=d2lkZ2V0TmFtZT1zcF9tdGY&th=1'\n",
    "\n",
    "headers = {\"User-Agent\": \"Mozilla/5.0 (Windows NT 10.0; Win64; x64) AppleWebKit/537.36 (KHTML, like Gecko) Chrome/78.0.3904.108 Safari/537.36\", \"Accept-Encoding\":\"gzip, deflate\", \"Accept\":\"text/html,application/xhtml+xml,application/xml;q=0.9,*/*;q=0.8\", \"DNT\":\"1\",\"Connection\":\"close\", \"Upgrade-Insecure-Requests\":\"1\"}\n",
    "\n",
    "page = requests.get(URL, headers=headers)\n",
    "\n",
    "soup1 = BeautifulSoup(page.content, \"html.parser\")\n",
    "\n",
    "soup2 = BeautifulSoup(soup1.prettify(), \"html.parser\")\n",
    "\n",
    "# print(soup2)\n",
    "title = soup2.find(id='productTitle').get_text()\n",
    "\n",
    "price = soup2.find(class_ ='a-offscreen').get_text()\n",
    "\n",
    "\n",
    "print(title)\n",
    "print(price)\n"
   ]
  },
  {
   "cell_type": "code",
   "execution_count": 53,
   "id": "c1c90a81",
   "metadata": {},
   "outputs": [
    {
     "name": "stdout",
     "output_type": "stream",
     "text": [
      "Panvola Give Me All The Data Researcher Scientist Analyst Data Science Computer Geek Ceramic Coffee Mug 11oz White Funny Novelty Drinkware\n",
      "12.97\n"
     ]
    }
   ],
   "source": [
    "# Clean up the data a little bit\n",
    "\n",
    "t = title.strip()\n",
    "p = price.strip()[1:]\n",
    "\n",
    "print(t)\n",
    "print(p)\n",
    "\n"
   ]
  },
  {
   "cell_type": "code",
   "execution_count": 61,
   "id": "7d526338",
   "metadata": {},
   "outputs": [
    {
     "name": "stdout",
     "output_type": "stream",
     "text": [
      "2024-03-26\n"
     ]
    }
   ],
   "source": [
    "# Create a Timestamp for your output to track when data was collected\n",
    "\n",
    "import datetime\n",
    "\n",
    "today = datetime.date.today()\n",
    "\n",
    "print(today)"
   ]
  },
  {
   "cell_type": "code",
   "execution_count": 62,
   "id": "e1620dca",
   "metadata": {},
   "outputs": [],
   "source": [
    "# Create CSV and write headers and data into the file\n",
    "\n",
    "import csv \n",
    "\n",
    "header = ['Title', 'Price', 'Date']\n",
    "data = [t, p, today]\n",
    "\n",
    "\n",
    "with open('AmazonWebScraperDataset.csv', 'w', newline='', encoding='UTF8') as f:\n",
    "    writer = csv.writer(f)\n",
    "    writer.writerow(header)\n",
    "    writer.writerow(data)\n"
   ]
  },
  {
   "cell_type": "code",
   "execution_count": 71,
   "id": "862c79e7",
   "metadata": {},
   "outputs": [
    {
     "name": "stdout",
     "output_type": "stream",
     "text": [
      "                                               Title  Price        Date\n",
      "0  Panvola Give Me All The Data Researcher Scient...  12.97  2024-03-26\n",
      "1  Panvola Give Me All The Data Researcher Scient...  12.97  2024-03-26\n",
      "2  Panvola Give Me All The Data Researcher Scient...  12.97  2024-03-26\n"
     ]
    }
   ],
   "source": [
    "import pandas as pd\n",
    "\n",
    "df = pd.read_csv(r'C:\\Users\\HP\\AmazonWebScraperDataset.csv')\n",
    "\n",
    "print(df)"
   ]
  },
  {
   "cell_type": "code",
   "execution_count": 70,
   "id": "7a1c2a45",
   "metadata": {},
   "outputs": [],
   "source": [
    "#Now we are appending data to the csv\n",
    "\n",
    "with open('AmazonWebScraperDataset.csv', 'a+', newline='', encoding='UTF8') as f:\n",
    "    writer = csv.writer(f)\n",
    "    writer.writerow(data)"
   ]
  },
  {
   "cell_type": "code",
   "execution_count": null,
   "id": "4dc3d2a3",
   "metadata": {},
   "outputs": [],
   "source": [
    "#Combine all of the above code into one function\n",
    "\n",
    "\n",
    "def check_price():\n",
    "    \n",
    "    URL = 'https://www.amazon.com/Researcher-Scientist-Analyst-Computer-Drinkware/dp/B09ZBHHBQZ/ref=sr_1_11_sspa?crid=35QH1OUP1PIOH&dib=eyJ2IjoiMSJ9.KEhZNoiS_9aZRnvUMTy2C26JZRiMC8bzx4SJEq-8rK0RZ2K3R4y6EAS2RnlK2VSB445RvjPXRWeK8Bv-Ikd7myruO1XLYkU_MWLdVCChEFdy3LJv1fmHyAEKW3hiVMBtUcY1Yy0Kk1CxoLgYKkWwm_uOvO7DXhdZAH4fn7SENzubXj1VrxNNLZb2Frpvo2ZwlbL5zSQf0VFqGMGfffO-uGo3uVWw_hhn9nKsIriLhFDmT7oURnHrI--wAlnMdoP433-jPRwmaP_jlzUWUzz59UUJf1OtVYmnsIomqwPlbpU.mSyzjGKGY-0ctDVdIpFpcohUNXxhQDVNMBBkkhE-7tI&dib_tag=se&keywords=data%2Banalyst%2Btshirt&qid=1711450675&sprefix=data%2Banalyst%2Bt%2Caps%2C294&sr=8-11-spons&sp_csd=d2lkZ2V0TmFtZT1zcF9tdGY&th=1'\n",
    "\n",
    "    headers = {\"User-Agent\": \"Mozilla/5.0 (Windows NT 10.0; Win64; x64) AppleWebKit/537.36 (KHTML, like Gecko) Chrome/78.0.3904.108 Safari/537.36\", \"Accept-Encoding\":\"gzip, deflate\", \"Accept\":\"text/html,application/xhtml+xml,application/xml;q=0.9,*/*;q=0.8\", \"DNT\":\"1\",\"Connection\":\"close\", \"Upgrade-Insecure-Requests\":\"1\"}\n",
    "\n",
    "    page = requests.get(URL, headers=headers)\n",
    "\n",
    "    soup1 = BeautifulSoup(page.content, \"html.parser\")\n",
    "\n",
    "    soup2 = BeautifulSoup(soup1.prettify(), \"html.parser\")\n",
    "\n",
    "    t = soup2.find(id='productTitle').get_text()\n",
    "\n",
    "    p = soup2.find(class_ ='a-offscreen').get_text()\n",
    "    \n",
    "    p = price.strip()[1:]\n",
    "    t = title.strip()\n",
    "\n",
    "    import datetime\n",
    "\n",
    "    today = datetime.date.today()\n",
    "    \n",
    "    import csv \n",
    "\n",
    "    header = ['Title', 'Price', 'Date']\n",
    "    data = [t, p, today]\n",
    "\n",
    "    with open('AmazonWebScraperDataset.csv', 'a+', newline='', encoding='UTF8') as f:\n",
    "        writer = csv.writer(f)\n",
    "        writer.writerow(data)"
   ]
  },
  {
   "cell_type": "code",
   "execution_count": null,
   "id": "a1196d89",
   "metadata": {},
   "outputs": [],
   "source": [
    "# Runs check_price after a set time and inputs data into your CSV\n",
    "\n",
    "while(True):\n",
    "    check_price()\n",
    "    time.sleep(86400)"
   ]
  },
  {
   "cell_type": "code",
   "execution_count": null,
   "id": "67830111",
   "metadata": {},
   "outputs": [],
   "source": [
    "import pandas as pd\n",
    "\n",
    "df = pd.read_csv(r'C:\\Users\\HP\\AmazonWebScraperDataset.csv')\n",
    "\n",
    "print(df)"
   ]
  },
  {
   "cell_type": "code",
   "execution_count": null,
   "id": "32d206d7",
   "metadata": {},
   "outputs": [],
   "source": []
  }
 ],
 "metadata": {
  "kernelspec": {
   "display_name": "Python 3 (ipykernel)",
   "language": "python",
   "name": "python3"
  },
  "language_info": {
   "codemirror_mode": {
    "name": "ipython",
    "version": 3
   },
   "file_extension": ".py",
   "mimetype": "text/x-python",
   "name": "python",
   "nbconvert_exporter": "python",
   "pygments_lexer": "ipython3",
   "version": "3.11.7"
  }
 },
 "nbformat": 4,
 "nbformat_minor": 5
}
